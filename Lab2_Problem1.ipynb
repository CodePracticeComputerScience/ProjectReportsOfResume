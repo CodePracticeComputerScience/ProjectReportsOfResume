{
 "cells": [
  {
   "cell_type": "markdown",
   "metadata": {},
   "source": [
    "## Tasks\n",
    "\n",
    "### Task 1\n",
    "\n",
    "In this task, you would be comparing the performance of two clustering algorithms: K-means and DBSCAN based on different parameters.\n",
    "\n",
    "### Problem 1:\n",
    "\n",
    "Run the K-means algorithm on the Image Segmentation data using 3, 5, 7, and 9 clusters with a 40% percentage split.\n",
    "\n",
    "Is there any correlation between the number of clusters and the inertia (or the sum of the squared errors)? If there is, why?\n",
    "\n",
    "\n",
    "\n"
   ]
  },
  {
   "cell_type": "code",
   "execution_count": 1,
   "metadata": {},
   "outputs": [
    {
     "name": "stdout",
     "output_type": "stream",
     "text": [
      "There are 2310 data points:\n",
      "[ 1.24913853e+02  1.23417316e+02  9.00000000e+00  1.43338000e-02\n",
      "  4.71380000e-03  1.89393964e+00  5.70932019e+00  2.42472330e+00\n",
      "  8.24369225e+00  3.70515950e+01  3.28213087e+01  4.41878774e+01\n",
      "  3.41456008e+01 -1.26908604e+01  2.14088501e+01 -8.71798933e+00\n",
      "  4.51374684e+01  4.26892977e-01 -1.36289695e+00]\n"
     ]
    }
   ],
   "source": [
    "#Load data segment.arff\n",
    "\n",
    "from scipy.io.arff import loadarff\n",
    "with open(\"segment.arff\", \"r\") as f:\n",
    "    data, meta = loadarff(f)\n",
    "#print(data)\n",
    "\n",
    "\n",
    "\n",
    "print(\"There are %d data points:\" % (data.size))       # Printing the data size\n",
    "X = data[meta.names()[:-1]]                            # matrix of datasize\n",
    "Y = data[meta.names()[-1]]\n",
    "\n",
    "\n",
    "import numpy as np                                  # data type of every element to float.\n",
    "X = np.asarray(X.tolist(), dtype=np.float_)\n",
    "print(X.mean(axis =0))\n",
    "\n",
    "\n"
   ]
  },
  {
   "cell_type": "code",
   "execution_count": 2,
   "metadata": {},
   "outputs": [
    {
     "name": "stdout",
     "output_type": "stream",
     "text": [
      "[[0.85770751 0.69583333 0.         ... 0.49852673 0.318996   0.16848872]\n",
      " [0.44268775 0.49583333 0.         ... 0.01693669 1.         0.1546051 ]\n",
      " [0.7944664  0.125      0.         ... 0.92636309 0.199347   0.12494586]\n",
      " ...\n",
      " [0.31225296 0.25416667 0.         ... 0.49337195 0.314606   0.16015015]\n",
      " [0.38339921 0.50833333 0.         ... 0.01840943 1.         0.1546051 ]\n",
      " [0.07114625 0.56666667 0.         ... 0.04639172 0.713228   0.26332542]]\n"
     ]
    }
   ],
   "source": [
    "#Standardization makes data in same unit for clustering purpose.\n",
    "#standardscaler and minmaxscaler gives almoost same kind of result.\n",
    "\n",
    "#standardization\n",
    "from sklearn import preprocessing\n",
    "from sklearn.preprocessing import StandardScaler\n",
    "\n",
    "\n",
    "#X_scaled = StandardScaler().fit_transform(X)\n",
    "#print(X_scaled)\n",
    "\n",
    "#mean value is nearly equal to 0 in all the data points after standardization\n",
    "#print(X_scaled.mean(axis =0))\n",
    "\n",
    "\n",
    "\n",
    "from sklearn.preprocessing import MinMaxScaler\n",
    "X_scaled = MinMaxScaler().fit_transform(X)\n",
    "print(X_scaled)\n"
   ]
  },
  {
   "cell_type": "code",
   "execution_count": 3,
   "metadata": {},
   "outputs": [],
   "source": [
    "#Run the K-means algorithm on the Image Segmentation data using 3, 5, 7, and 9 clusters with a 40% percentage split.\n",
    "\n",
    "#import module for K-means algorithm\n",
    "from sklearn.cluster import KMeans\n",
    "\n",
    "#import module for visulization\n",
    "import matplotlib.pyplot as plt \n",
    "\n",
    "#to display visulization on this page instead of background\n",
    "%matplotlib inline\n",
    "from mpl_toolkits.mplot3d import Axes3D\n",
    "\n",
    "#to split whole dataset into traning and testing data\n",
    "\n",
    "from sklearn.model_selection import train_test_split   \n",
    "\n",
    "X_train, X_test, Y_train, Y_test = train_test_split(X_scaled, Y, test_size=0.60, random_state=42)\n",
    "\n",
    "\n"
   ]
  },
  {
   "cell_type": "code",
   "execution_count": 4,
   "metadata": {},
   "outputs": [
    {
     "name": "stdout",
     "output_type": "stream",
     "text": [
      "KMeans(algorithm='auto', copy_x=True, init='k-means++', max_iter=300,\n",
      "    n_clusters=3, n_init=10, n_jobs=1, precompute_distances='auto',\n",
      "    random_state=0, tol=0.0001, verbose=0)\n",
      "[1 2 1 ... 1 0 1]\n",
      "291.86590389039833\n",
      "[[5.05717863e-01 5.38508304e-01 0.00000000e+00 3.91459075e-02\n",
      "  4.44839858e-02 1.10475986e-01 1.20562889e-02 9.50465572e-02\n",
      "  1.17036881e-02 3.34661186e-01 3.10638319e-01 3.93715080e-01\n",
      "  2.94734811e-01 5.61275276e-01 4.93949940e-01 2.71914480e-01\n",
      "  3.93738663e-01 3.07213477e-01 1.66276492e-01]\n",
      " [4.71590909e-01 5.19108073e-01 0.00000000e+00 4.62239583e-02\n",
      "  1.26953125e-02 4.62400942e-02 2.22627788e-03 3.74369415e-02\n",
      "  2.50847525e-03 7.48337026e-02 6.58665839e-02 8.61790685e-02\n",
      "  7.13322318e-02 7.48149028e-01 2.03839238e-01 5.49769255e-01\n",
      "  9.80689594e-02 5.39638215e-01 3.90957981e-01]\n",
      " [5.19295175e-01 1.54293893e-01 0.00000000e+00 2.79898219e-02\n",
      "  3.81679389e-03 3.06504777e-02 5.67140727e-04 2.71016167e-02\n",
      "  6.33649132e-04 8.19713467e-01 7.76455522e-01 8.90155591e-01\n",
      "  7.85471669e-01 2.73684489e-01 6.63241867e-01 2.91365413e-01\n",
      "  8.90155591e-01 2.12139465e-01 1.24881181e-01]]\n"
     ]
    }
   ],
   "source": [
    "#clusters = 3\n",
    "kmeans = KMeans(n_clusters=3, random_state=0).fit(X_train)\n",
    "print(kmeans)\n",
    "\n",
    "labels = kmeans.predict(X_test)\n",
    "\n",
    "\n",
    "centroids = kmeans.cluster_centers_\n",
    "inertia = kmeans.inertia_\n",
    "\n",
    "print(labels)\n",
    "print(inertia)\n",
    "\n",
    "print(centroids)"
   ]
  },
  {
   "cell_type": "code",
   "execution_count": 5,
   "metadata": {},
   "outputs": [
    {
     "name": "stdout",
     "output_type": "stream",
     "text": [
      "[4 2 0 ... 3 1 4]\n",
      "185.9153873767445\n",
      "[[5.39601122e-01 7.95578880e-01 0.00000000e+00 6.36132316e-02\n",
      "  3.81679389e-03 5.17227003e-02 1.33079928e-03 4.81248237e-02\n",
      "  1.42782911e-03 1.10944563e-01 9.39971281e-02 9.34804656e-02\n",
      "  1.45555349e-01 6.81511501e-01 7.42968329e-02 8.26483934e-01\n",
      "  1.37556250e-01 4.13926840e-01 8.87380776e-01]\n",
      " [5.26952831e-01 5.38683528e-01 0.00000000e+00 4.28015564e-02\n",
      "  4.86381323e-02 1.13099466e-01 1.29338046e-02 9.50093328e-02\n",
      "  1.18855535e-02 3.48211414e-01 3.23909709e-01 4.08456852e-01\n",
      "  3.07270745e-01 5.55026685e-01 5.02865409e-01 2.63890015e-01\n",
      "  4.08482637e-01 3.00283673e-01 1.66404636e-01]\n",
      " [5.19295175e-01 1.54293893e-01 0.00000000e+00 2.79898219e-02\n",
      "  3.81679389e-03 3.06504777e-02 5.67140727e-04 2.71016167e-02\n",
      "  6.33649132e-04 8.19713467e-01 7.76455522e-01 8.90155591e-01\n",
      "  7.85471669e-01 2.73684489e-01 6.63241867e-01 2.91365413e-01\n",
      "  8.90155591e-01 2.12139465e-01 1.24881181e-01]\n",
      " [7.46585280e-01 4.33781646e-01 0.00000000e+00 1.89873418e-02\n",
      "  1.58227848e-02 3.65308129e-02 1.30573583e-03 2.58982795e-02\n",
      "  2.50717359e-03 4.74366214e-02 4.20060654e-02 6.50901032e-02\n",
      "  3.38998708e-02 7.81315039e-01 2.27594558e-01 4.77721814e-01\n",
      "  6.60548517e-02 5.29052265e-01 2.50325072e-01]\n",
      " [2.40834680e-01 4.28761808e-01 0.00000000e+00 4.99325236e-02\n",
      "  1.41700405e-02 5.30549612e-02 3.33215668e-03 4.47859030e-02\n",
      "  3.78667770e-03 8.43546216e-02 7.61849454e-02 1.10340212e-01\n",
      "  6.45751928e-02 7.50619489e-01 2.76260679e-01 4.30447983e-01\n",
      "  1.10993111e-01 5.97709211e-01 1.95667797e-01]]\n"
     ]
    }
   ],
   "source": [
    "#clusters = 5\n",
    "kmeans = KMeans(n_clusters=5, random_state=0).fit(X_train)\n",
    "\n",
    "\n",
    "labels = kmeans.predict(X_test)\n",
    "\n",
    "\n",
    "centroids = kmeans.cluster_centers_\n",
    "inertia = kmeans.inertia_\n",
    "\n",
    "print(labels)\n",
    "print(inertia)\n",
    "\n",
    "print(centroids)"
   ]
  },
  {
   "cell_type": "code",
   "execution_count": 6,
   "metadata": {},
   "outputs": [
    {
     "name": "stdout",
     "output_type": "stream",
     "text": [
      "[1 2 4 ... 3 0 1]\n",
      "153.92418681294316\n",
      "[[7.45919929e-01 5.68783602e-01 0.00000000e+00 3.49462366e-02\n",
      "  3.62903226e-02 8.93383430e-02 8.22571170e-03 8.87197188e-02\n",
      "  7.16959776e-03 3.22933531e-01 3.02458798e-01 3.77458264e-01\n",
      "  2.84406897e-01 5.89522426e-01 4.69468425e-01 2.82671219e-01\n",
      "  3.77493892e-01 2.96437702e-01 1.70786010e-01]\n",
      " [2.92202183e-01 4.06208609e-01 0.00000000e+00 6.62251656e-02\n",
      "  9.93377483e-03 7.44467237e-02 2.45303058e-03 5.73814588e-02\n",
      "  3.62956904e-03 1.50639186e-01 1.41509458e-01 1.86605624e-01\n",
      "  1.21114804e-01 7.22842842e-01 3.39773747e-01 3.56258646e-01\n",
      "  1.86751923e-01 3.98536258e-01 1.99964087e-01]\n",
      " [5.19295175e-01 1.54293893e-01 0.00000000e+00 2.79898219e-02\n",
      "  3.81679389e-03 3.06504777e-02 5.67140727e-04 2.71016167e-02\n",
      "  6.33649132e-04 8.19713467e-01 7.76455522e-01 8.90155591e-01\n",
      "  7.85471669e-01 2.73684489e-01 6.63241867e-01 2.91365413e-01\n",
      "  8.90155591e-01 2.12139465e-01 1.24881181e-01]\n",
      " [7.53293808e-01 4.36197917e-01 0.00000000e+00 1.62037037e-02\n",
      "  1.38888889e-02 3.43129821e-02 1.05159759e-03 2.25586775e-02\n",
      "  1.96239437e-03 3.72756174e-02 3.35517073e-02 5.20628479e-02\n",
      "  2.51471409e-02 7.96343901e-01 2.11453854e-01 4.88469670e-01\n",
      "  5.33361685e-02 5.24129708e-01 2.65774856e-01]\n",
      " [5.39601122e-01 7.95578880e-01 0.00000000e+00 6.36132316e-02\n",
      "  3.81679389e-03 5.17227003e-02 1.33079928e-03 4.81248237e-02\n",
      "  1.42782911e-03 1.10944563e-01 9.39971281e-02 9.34804656e-02\n",
      "  1.45555349e-01 6.81511501e-01 7.42968329e-02 8.26483934e-01\n",
      "  1.37556250e-01 4.13926840e-01 8.87380776e-01]\n",
      " [3.10779125e-01 5.15677966e-01 0.00000000e+00 5.36723164e-02\n",
      "  6.77966102e-02 1.32806071e-01 1.91311565e-02 1.06505983e-01\n",
      "  1.78969923e-02 3.90766042e-01 3.61440248e-01 4.59374104e-01\n",
      "  3.45739194e-01 5.06751463e-01 5.53010779e-01 2.32110142e-01\n",
      "  4.59374104e-01 3.01895398e-01 1.61995159e-01]\n",
      " [2.48885375e-01 4.58833333e-01 0.00000000e+00 2.66666667e-02\n",
      "  2.00000000e-02 4.00912883e-02 4.43227497e-03 3.27155504e-02\n",
      "  4.43604118e-03 2.84204359e-02 1.87617656e-02 4.66096902e-02\n",
      "  1.84130383e-02 7.58179230e-01 2.25665524e-01 5.04364131e-01\n",
      "  4.74933384e-02 8.02894016e-01 1.75105986e-01]]\n"
     ]
    }
   ],
   "source": [
    "#clusters = 7\n",
    "kmeans = KMeans(n_clusters=7, random_state=0).fit(X_train)\n",
    "\n",
    "\n",
    "labels = kmeans.predict(X_test)\n",
    "\n",
    "\n",
    "centroids = kmeans.cluster_centers_\n",
    "inertia = kmeans.inertia_\n",
    "\n",
    "print(labels)\n",
    "print(inertia)\n",
    "\n",
    "print(centroids)"
   ]
  },
  {
   "cell_type": "code",
   "execution_count": 7,
   "metadata": {},
   "outputs": [
    {
     "name": "stdout",
     "output_type": "stream",
     "text": [
      "[6 1 3 ... 5 2 6]\n",
      "134.3216394513502\n",
      "[[2.51244607e-01 4.60591603e-01 0.00000000e+00 2.79898219e-02\n",
      "  1.52671756e-02 3.84001724e-02 3.97963993e-03 3.07145446e-02\n",
      "  3.60633189e-03 2.89655455e-02 2.04696622e-02 4.63411288e-02\n",
      "  1.87001506e-02 7.66036356e-01 2.21894564e-01 5.02455009e-01\n",
      "  4.73866681e-02 7.84916366e-01 1.83629613e-01]\n",
      " [5.19295175e-01 1.54293893e-01 0.00000000e+00 2.79898219e-02\n",
      "  3.81679389e-03 3.06504777e-02 5.67140727e-04 2.71016167e-02\n",
      "  6.33649132e-04 8.19713467e-01 7.76455522e-01 8.90155591e-01\n",
      "  7.85471669e-01 2.73684489e-01 6.63241867e-01 2.91365413e-01\n",
      "  8.90155591e-01 2.12139465e-01 1.24881181e-01]\n",
      " [7.55515016e-01 5.71901709e-01 0.00000000e+00 3.41880342e-02\n",
      "  3.84615385e-02 8.83299829e-02 8.60465805e-03 9.03965844e-02\n",
      "  7.32347788e-03 3.24988137e-01 3.04651917e-01 3.79466754e-01\n",
      "  2.86373872e-01 5.89823593e-01 4.69733253e-01 2.81937732e-01\n",
      "  3.79504513e-01 2.94381393e-01 1.71036551e-01]\n",
      " [7.93935461e-01 7.87189055e-01 0.00000000e+00 5.97014925e-02\n",
      "  7.46268657e-03 4.87771043e-02 1.06891851e-03 4.59627614e-02\n",
      "  1.29836432e-03 1.12058193e-01 9.42452150e-02 9.49925561e-02\n",
      "  1.47077868e-01 6.75178369e-01 7.64701520e-02 8.29419856e-01\n",
      "  1.38988310e-01 4.13194299e-01 8.92670194e-01]\n",
      " [5.78722003e-01 4.99652778e-01 0.00000000e+00 2.08166817e-17\n",
      "  6.93889390e-18 1.32023819e-02 4.11223632e-04 2.72602204e-03\n",
      "  1.30772439e-04 3.34223770e-03 3.35404607e-03 4.11143309e-03\n",
      "  2.51146742e-03 8.32970636e-01 1.36241427e-01 5.72527697e-01\n",
      "  4.23416312e-03 7.04116639e-02 3.89678085e-01]\n",
      " [7.87208049e-01 4.17878788e-01 0.00000000e+00 2.12121212e-02\n",
      "  2.27272727e-02 4.09264097e-02 1.55207965e-03 2.89554139e-02\n",
      "  3.29018111e-03 4.64194016e-02 4.02829180e-02 6.61400155e-02\n",
      "  3.13752244e-02 7.76764010e-01 2.37261651e-01 4.66758505e-01\n",
      "  6.75257452e-02 6.55502436e-01 2.17309108e-01]\n",
      " [3.08509803e-01 3.97213024e-01 0.00000000e+00 6.40176600e-02\n",
      "  9.93377483e-03 8.04397317e-02 2.56244546e-03 6.09436255e-02\n",
      "  3.83209548e-03 1.63246460e-01 1.53230351e-01 2.01318521e-01\n",
      "  1.32326078e-01 7.12699034e-01 3.52847385e-01 3.45489209e-01\n",
      "  2.01464819e-01 4.05399318e-01 1.96404167e-01]\n",
      " [3.20968886e-01 5.27350427e-01 0.00000000e+00 5.69800570e-02\n",
      "  6.83760684e-02 1.32088767e-01 1.92546740e-02 1.06715549e-01\n",
      "  1.80468337e-02 3.94240535e-01 3.64820387e-01 4.63426253e-01\n",
      "  3.48687569e-01 5.04991341e-01 5.56601122e-01 2.28109471e-01\n",
      "  4.63426253e-01 3.01498162e-01 1.62317100e-01]\n",
      " [2.73344862e-01 8.04361979e-01 0.00000000e+00 6.77083333e-02\n",
      "  1.73472348e-17 5.48063710e-02 1.60495571e-03 5.03882328e-02\n",
      "  1.56336257e-03 1.09778732e-01 9.37374121e-02 9.18974958e-02\n",
      "  1.43961463e-01 6.88141499e-01 7.20216395e-02 8.23410392e-01\n",
      "  1.36057062e-01 4.14693719e-01 8.81843417e-01]]\n"
     ]
    }
   ],
   "source": [
    "#clusters = 9\n",
    "kmeans = KMeans(n_clusters=9, random_state=0).fit(X_train)\n",
    "\n",
    "\n",
    "labels = kmeans.predict(X_test)\n",
    "\n",
    "\n",
    "centroids = kmeans.cluster_centers_\n",
    "inertia = kmeans.inertia_\n",
    "\n",
    "print(labels)\n",
    "print(inertia)\n",
    "print(centroids)"
   ]
  },
  {
   "cell_type": "markdown",
   "metadata": {},
   "source": [
    "### Conclusion\n",
    "\n",
    "Intertia value decreases when cluster size increases.because K-means searches for the minimum sum of squares assignment, i.e. it minimizes unnormalized variance (=total_SS) by assigning points to cluster centers."
   ]
  },
  {
   "cell_type": "code",
   "execution_count": 8,
   "metadata": {},
   "outputs": [],
   "source": [
    "#Reference: https://stats.stackexchange.com/questions/48520/interpreting-result-of-k-means-clustering-in-r?utm_medium=organic&utm_source=google_rich_qa&utm_campaign=google_rich_qa"
   ]
  },
  {
   "cell_type": "code",
   "execution_count": null,
   "metadata": {},
   "outputs": [],
   "source": []
  }
 ],
 "metadata": {
  "kernelspec": {
   "display_name": "Python 3",
   "language": "python",
   "name": "python3"
  },
  "language_info": {
   "codemirror_mode": {
    "name": "ipython",
    "version": 3
   },
   "file_extension": ".py",
   "mimetype": "text/x-python",
   "name": "python",
   "nbconvert_exporter": "python",
   "pygments_lexer": "ipython3",
   "version": "3.6.4"
  }
 },
 "nbformat": 4,
 "nbformat_minor": 2
}
